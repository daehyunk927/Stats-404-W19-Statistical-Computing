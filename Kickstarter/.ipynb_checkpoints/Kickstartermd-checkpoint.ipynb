{
 "cells": [
  {
   "cell_type": "code",
   "execution_count": 3,
   "metadata": {},
   "outputs": [
    {
     "name": "stdout",
     "output_type": "stream",
     "text": [
      "Requirement already satisfied: matplotlib in c:\\python37\\lib\\site-packages (3.0.2)\n",
      "Requirement already satisfied: python-dateutil>=2.1 in c:\\python37\\lib\\site-packages (from matplotlib) (2.7.5)\n",
      "Requirement already satisfied: kiwisolver>=1.0.1 in c:\\python37\\lib\\site-packages (from matplotlib) (1.0.1)\n",
      "Requirement already satisfied: cycler>=0.10 in c:\\python37\\lib\\site-packages (from matplotlib) (0.10.0)\n",
      "Requirement already satisfied: pyparsing!=2.0.4,!=2.1.2,!=2.1.6,>=2.0.1 in c:\\python37\\lib\\site-packages (from matplotlib) (2.3.1)\n",
      "Requirement already satisfied: numpy>=1.10.0 in c:\\python37\\lib\\site-packages (from matplotlib) (1.16.1)\n",
      "Requirement already satisfied: six>=1.5 in c:\\python37\\lib\\site-packages (from python-dateutil>=2.1->matplotlib) (1.12.0)\n",
      "Requirement already satisfied: setuptools in c:\\python37\\lib\\site-packages (from kiwisolver>=1.0.1->matplotlib) (40.6.2)\n"
     ]
    },
    {
     "name": "stderr",
     "output_type": "stream",
     "text": [
      "You are using pip version 18.1, however version 19.0.2 is available.\n",
      "You should consider upgrading via the 'python -m pip install --upgrade pip' command.\n"
     ]
    },
    {
     "name": "stdout",
     "output_type": "stream",
     "text": [
      "Requirement already satisfied: plotly in c:\\python37\\lib\\site-packages (3.6.1)\n",
      "Requirement already satisfied: requests in c:\\python37\\lib\\site-packages (from plotly) (2.21.0)\n",
      "Requirement already satisfied: pytz in c:\\python37\\lib\\site-packages (from plotly) (2018.9)\n",
      "Requirement already satisfied: retrying>=1.3.3 in c:\\python37\\lib\\site-packages (from plotly) (1.3.3)\n",
      "Requirement already satisfied: decorator>=4.0.6 in c:\\python37\\lib\\site-packages (from plotly) (4.3.0)\n",
      "Requirement already satisfied: six in c:\\python37\\lib\\site-packages (from plotly) (1.12.0)\n",
      "Requirement already satisfied: nbformat>=4.2 in c:\\python37\\lib\\site-packages (from plotly) (4.4.0)\n",
      "Requirement already satisfied: urllib3<1.25,>=1.21.1 in c:\\python37\\lib\\site-packages (from requests->plotly) (1.24.1)\n",
      "Requirement already satisfied: certifi>=2017.4.17 in c:\\python37\\lib\\site-packages (from requests->plotly) (2018.11.29)\n",
      "Requirement already satisfied: idna<2.9,>=2.5 in c:\\python37\\lib\\site-packages (from requests->plotly) (2.8)\n",
      "Requirement already satisfied: chardet<3.1.0,>=3.0.2 in c:\\python37\\lib\\site-packages (from requests->plotly) (3.0.4)\n",
      "Requirement already satisfied: jupyter-core in c:\\python37\\lib\\site-packages (from nbformat>=4.2->plotly) (4.4.0)\n",
      "Requirement already satisfied: traitlets>=4.1 in c:\\python37\\lib\\site-packages (from nbformat>=4.2->plotly) (4.3.2)\n",
      "Requirement already satisfied: ipython-genutils in c:\\python37\\lib\\site-packages (from nbformat>=4.2->plotly) (0.2.0)\n",
      "Requirement already satisfied: jsonschema!=2.5.0,>=2.4 in c:\\python37\\lib\\site-packages (from nbformat>=4.2->plotly) (2.6.0)\n"
     ]
    },
    {
     "name": "stderr",
     "output_type": "stream",
     "text": [
      "You are using pip version 18.1, however version 19.0.2 is available.\n",
      "You should consider upgrading via the 'python -m pip install --upgrade pip' command.\n"
     ]
    },
    {
     "name": "stdout",
     "output_type": "stream",
     "text": [
      "Requirement already satisfied: sklearn in c:\\python37\\lib\\site-packages (0.0)\n",
      "Requirement already satisfied: scikit-learn in c:\\python37\\lib\\site-packages (from sklearn) (0.20.2)\n",
      "Requirement already satisfied: scipy>=0.13.3 in c:\\python37\\lib\\site-packages (from scikit-learn->sklearn) (1.2.1)\n",
      "Requirement already satisfied: numpy>=1.8.2 in c:\\python37\\lib\\site-packages (from scikit-learn->sklearn) (1.16.1)\n"
     ]
    },
    {
     "name": "stderr",
     "output_type": "stream",
     "text": [
      "You are using pip version 18.1, however version 19.0.2 is available.\n",
      "You should consider upgrading via the 'python -m pip install --upgrade pip' command.\n"
     ]
    },
    {
     "name": "stdout",
     "output_type": "stream",
     "text": [
      "Requirement already satisfied: joblib in c:\\python37\\lib\\site-packages (0.13.2)\n"
     ]
    },
    {
     "name": "stderr",
     "output_type": "stream",
     "text": [
      "You are using pip version 18.1, however version 19.0.2 is available.\n",
      "You should consider upgrading via the 'python -m pip install --upgrade pip' command.\n"
     ]
    }
   ],
   "source": [
    "!pip install matplotlib\n",
    "!pip install plotly\n",
    "!pip install sklearn\n",
    "!pip install joblib\n",
    "import pandas as pd\n",
    "import numpy as np\n",
    "import matplotlib.pyplot as plt\n",
    "\n",
    "from collections import Counter\n",
    "import inspect\n",
    "from joblib import dump, load\n",
    "import random\n",
    "import os"
   ]
  },
  {
   "cell_type": "code",
   "execution_count": 1,
   "metadata": {},
   "outputs": [],
   "source": [
    "from sklearn.model_selection import GridSearchCV, train_test_split\n",
    "from sklearn.ensemble import RandomForestClassifier\n",
    "from sklearn.preprocessing import LabelEncoder\n",
    "from sklearn.metrics import accuracy_score, confusion_matrix, f1_score, \\\n",
    "                            mean_squared_error, roc_auc_score\n",
    "\n",
    "from sklearn import svm"
   ]
  },
  {
   "cell_type": "code",
   "execution_count": 2,
   "metadata": {},
   "outputs": [
    {
     "data": {
      "text/html": [
       "<script type=\"text/javascript\">window.PlotlyConfig = {MathJaxConfig: 'local'};</script><script type=\"text/javascript\">if (window.MathJax) {MathJax.Hub.Config({SVG: {font: \"STIX-Web\"}});}</script><script>requirejs.config({paths: { 'plotly': ['https://cdn.plot.ly/plotly-latest.min']},});if(!window._Plotly) {require(['plotly'],function(plotly) {window._Plotly=plotly;});}</script>"
      ],
      "text/vnd.plotly.v1+html": [
       "<script type=\"text/javascript\">window.PlotlyConfig = {MathJaxConfig: 'local'};</script><script type=\"text/javascript\">if (window.MathJax) {MathJax.Hub.Config({SVG: {font: \"STIX-Web\"}});}</script><script>requirejs.config({paths: { 'plotly': ['https://cdn.plot.ly/plotly-latest.min']},});if(!window._Plotly) {require(['plotly'],function(plotly) {window._Plotly=plotly;});}</script>"
      ]
     },
     "metadata": {},
     "output_type": "display_data"
    }
   ],
   "source": [
    "import plotly.tools as tls\n",
    "import plotly.offline as py\n",
    "from plotly.offline import init_notebook_mode, iplot, plot\n",
    "import plotly.graph_objs as go\n",
    "init_notebook_mode(connected=True)\n",
    "import warnings"
   ]
  },
  {
   "cell_type": "code",
   "execution_count": 4,
   "metadata": {},
   "outputs": [],
   "source": [
    "np.random.seed(2000)"
   ]
  },
  {
   "cell_type": "code",
   "execution_count": 5,
   "metadata": {},
   "outputs": [
    {
     "data": {
      "text/plain": [
       "'C:\\\\Users\\\\luxur\\\\Documents\\\\Stats-404-W19-Statistical-Computing\\\\Kickstarter'"
      ]
     },
     "execution_count": 5,
     "metadata": {},
     "output_type": "execute_result"
    }
   ],
   "source": [
    "notebook_dir = os.getcwd()\n",
    "notebook_dir"
   ]
  },
  {
   "cell_type": "code",
   "execution_count": 6,
   "metadata": {},
   "outputs": [],
   "source": [
    "df = pd.read_csv(\"../Kickstarter/ks-projects-201801.csv\",\n",
    "                 encoding='ISO-8859-1',\n",
    "                 )"
   ]
  },
  {
   "cell_type": "code",
   "execution_count": 7,
   "metadata": {},
   "outputs": [
    {
     "data": {
      "text/html": [
       "<div>\n",
       "<style scoped>\n",
       "    .dataframe tbody tr th:only-of-type {\n",
       "        vertical-align: middle;\n",
       "    }\n",
       "\n",
       "    .dataframe tbody tr th {\n",
       "        vertical-align: top;\n",
       "    }\n",
       "\n",
       "    .dataframe thead th {\n",
       "        text-align: right;\n",
       "    }\n",
       "</style>\n",
       "<table border=\"1\" class=\"dataframe\">\n",
       "  <thead>\n",
       "    <tr style=\"text-align: right;\">\n",
       "      <th></th>\n",
       "      <th>ID</th>\n",
       "      <th>name</th>\n",
       "      <th>category</th>\n",
       "      <th>main_category</th>\n",
       "      <th>currency</th>\n",
       "      <th>deadline</th>\n",
       "      <th>goal</th>\n",
       "      <th>launched</th>\n",
       "      <th>pledged</th>\n",
       "      <th>state</th>\n",
       "      <th>backers</th>\n",
       "      <th>country</th>\n",
       "      <th>usd pledged</th>\n",
       "      <th>usd_pledged_real</th>\n",
       "      <th>usd_goal_real</th>\n",
       "    </tr>\n",
       "  </thead>\n",
       "  <tbody>\n",
       "    <tr>\n",
       "      <th>0</th>\n",
       "      <td>620302213</td>\n",
       "      <td>LOVELAND Round 6: A Force More Powerful</td>\n",
       "      <td>Conceptual Art</td>\n",
       "      <td>Art</td>\n",
       "      <td>USD</td>\n",
       "      <td>12/4/2009</td>\n",
       "      <td>0.01</td>\n",
       "      <td>11/25/2009 7:54</td>\n",
       "      <td>100.0</td>\n",
       "      <td>successful</td>\n",
       "      <td>6</td>\n",
       "      <td>US</td>\n",
       "      <td>100.00</td>\n",
       "      <td>100.00</td>\n",
       "      <td>0.01</td>\n",
       "    </tr>\n",
       "    <tr>\n",
       "      <th>1</th>\n",
       "      <td>688564643</td>\n",
       "      <td>Word-of-mouth publishing: get \"Corruptions\" ou...</td>\n",
       "      <td>Fiction</td>\n",
       "      <td>Publishing</td>\n",
       "      <td>USD</td>\n",
       "      <td>12/13/2011</td>\n",
       "      <td>0.01</td>\n",
       "      <td>11/7/2011 16:46</td>\n",
       "      <td>0.0</td>\n",
       "      <td>canceled</td>\n",
       "      <td>0</td>\n",
       "      <td>US</td>\n",
       "      <td>0.00</td>\n",
       "      <td>0.00</td>\n",
       "      <td>0.01</td>\n",
       "    </tr>\n",
       "    <tr>\n",
       "      <th>2</th>\n",
       "      <td>9572984</td>\n",
       "      <td>Nana</td>\n",
       "      <td>Shorts</td>\n",
       "      <td>Film &amp; Video</td>\n",
       "      <td>USD</td>\n",
       "      <td>3/16/2012</td>\n",
       "      <td>0.15</td>\n",
       "      <td>1/25/2012 7:23</td>\n",
       "      <td>0.0</td>\n",
       "      <td>failed</td>\n",
       "      <td>0</td>\n",
       "      <td>US</td>\n",
       "      <td>0.00</td>\n",
       "      <td>0.00</td>\n",
       "      <td>0.15</td>\n",
       "    </tr>\n",
       "    <tr>\n",
       "      <th>3</th>\n",
       "      <td>1379346088</td>\n",
       "      <td>Bug's Big Adventure: Mexico Edition</td>\n",
       "      <td>Art</td>\n",
       "      <td>Art</td>\n",
       "      <td>MXN</td>\n",
       "      <td>11/12/2016</td>\n",
       "      <td>10.00</td>\n",
       "      <td>11/11/2016 16:30</td>\n",
       "      <td>335.0</td>\n",
       "      <td>successful</td>\n",
       "      <td>7</td>\n",
       "      <td>MX</td>\n",
       "      <td>18.05</td>\n",
       "      <td>16.41</td>\n",
       "      <td>0.49</td>\n",
       "    </tr>\n",
       "    <tr>\n",
       "      <th>4</th>\n",
       "      <td>219760504</td>\n",
       "      <td>RocknRoll NoisePollution</td>\n",
       "      <td>Documentary</td>\n",
       "      <td>Film &amp; Video</td>\n",
       "      <td>USD</td>\n",
       "      <td>7/19/2011</td>\n",
       "      <td>0.50</td>\n",
       "      <td>7/12/2011 15:59</td>\n",
       "      <td>0.0</td>\n",
       "      <td>failed</td>\n",
       "      <td>0</td>\n",
       "      <td>US</td>\n",
       "      <td>0.00</td>\n",
       "      <td>0.00</td>\n",
       "      <td>0.50</td>\n",
       "    </tr>\n",
       "    <tr>\n",
       "      <th>5</th>\n",
       "      <td>69101025</td>\n",
       "      <td>Most percentage funded ever for a Guinness Record</td>\n",
       "      <td>Publishing</td>\n",
       "      <td>Publishing</td>\n",
       "      <td>MXN</td>\n",
       "      <td>6/26/2017</td>\n",
       "      <td>10.00</td>\n",
       "      <td>5/25/2017 19:01</td>\n",
       "      <td>9430.0</td>\n",
       "      <td>successful</td>\n",
       "      <td>2</td>\n",
       "      <td>MX</td>\n",
       "      <td>506.87</td>\n",
       "      <td>522.81</td>\n",
       "      <td>0.55</td>\n",
       "    </tr>\n",
       "    <tr>\n",
       "      <th>6</th>\n",
       "      <td>843112170</td>\n",
       "      <td>Nothing (Suspended)</td>\n",
       "      <td>Comedy</td>\n",
       "      <td>Film &amp; Video</td>\n",
       "      <td>NOK</td>\n",
       "      <td>11/14/2015</td>\n",
       "      <td>5.00</td>\n",
       "      <td>9/30/2015 10:14</td>\n",
       "      <td>0.0</td>\n",
       "      <td>suspended</td>\n",
       "      <td>0</td>\n",
       "      <td>NO</td>\n",
       "      <td>0.00</td>\n",
       "      <td>0.00</td>\n",
       "      <td>0.58</td>\n",
       "    </tr>\n",
       "    <tr>\n",
       "      <th>7</th>\n",
       "      <td>952551201</td>\n",
       "      <td>Xtreme Champion Tournament Issue #3</td>\n",
       "      <td>Comics</td>\n",
       "      <td>Comics</td>\n",
       "      <td>AUD</td>\n",
       "      <td>11/27/2015</td>\n",
       "      <td>1.00</td>\n",
       "      <td>10/30/2015 2:02</td>\n",
       "      <td>1297.0</td>\n",
       "      <td>successful</td>\n",
       "      <td>59</td>\n",
       "      <td>AU</td>\n",
       "      <td>923.80</td>\n",
       "      <td>934.17</td>\n",
       "      <td>0.72</td>\n",
       "    </tr>\n",
       "    <tr>\n",
       "      <th>8</th>\n",
       "      <td>1793062138</td>\n",
       "      <td>flying cars (Suspended)</td>\n",
       "      <td>Flight</td>\n",
       "      <td>Technology</td>\n",
       "      <td>CAD</td>\n",
       "      <td>2/13/2016</td>\n",
       "      <td>1.00</td>\n",
       "      <td>1/14/2016 17:38</td>\n",
       "      <td>0.0</td>\n",
       "      <td>suspended</td>\n",
       "      <td>0</td>\n",
       "      <td>CA</td>\n",
       "      <td>0.00</td>\n",
       "      <td>0.00</td>\n",
       "      <td>0.73</td>\n",
       "    </tr>\n",
       "    <tr>\n",
       "      <th>9</th>\n",
       "      <td>741010120</td>\n",
       "      <td>New Soundtracks for your Space Walk</td>\n",
       "      <td>Rock</td>\n",
       "      <td>Music</td>\n",
       "      <td>DKK</td>\n",
       "      <td>10/18/2015</td>\n",
       "      <td>5.00</td>\n",
       "      <td>9/18/2015 12:00</td>\n",
       "      <td>145.0</td>\n",
       "      <td>successful</td>\n",
       "      <td>3</td>\n",
       "      <td>DK</td>\n",
       "      <td>21.96</td>\n",
       "      <td>21.54</td>\n",
       "      <td>0.74</td>\n",
       "    </tr>\n",
       "  </tbody>\n",
       "</table>\n",
       "</div>"
      ],
      "text/plain": [
       "           ID                                               name  \\\n",
       "0   620302213            LOVELAND Round 6: A Force More Powerful   \n",
       "1   688564643  Word-of-mouth publishing: get \"Corruptions\" ou...   \n",
       "2     9572984                                               Nana   \n",
       "3  1379346088                Bug's Big Adventure: Mexico Edition   \n",
       "4   219760504                           RocknRoll NoisePollution   \n",
       "5    69101025  Most percentage funded ever for a Guinness Record   \n",
       "6   843112170                                Nothing (Suspended)   \n",
       "7   952551201                Xtreme Champion Tournament Issue #3   \n",
       "8  1793062138                            flying cars (Suspended)   \n",
       "9   741010120                New Soundtracks for your Space Walk   \n",
       "\n",
       "         category main_category currency    deadline   goal          launched  \\\n",
       "0  Conceptual Art           Art      USD   12/4/2009   0.01   11/25/2009 7:54   \n",
       "1         Fiction    Publishing      USD  12/13/2011   0.01   11/7/2011 16:46   \n",
       "2          Shorts  Film & Video      USD   3/16/2012   0.15    1/25/2012 7:23   \n",
       "3             Art           Art      MXN  11/12/2016  10.00  11/11/2016 16:30   \n",
       "4     Documentary  Film & Video      USD   7/19/2011   0.50   7/12/2011 15:59   \n",
       "5      Publishing    Publishing      MXN   6/26/2017  10.00   5/25/2017 19:01   \n",
       "6          Comedy  Film & Video      NOK  11/14/2015   5.00   9/30/2015 10:14   \n",
       "7          Comics        Comics      AUD  11/27/2015   1.00   10/30/2015 2:02   \n",
       "8          Flight    Technology      CAD   2/13/2016   1.00   1/14/2016 17:38   \n",
       "9            Rock         Music      DKK  10/18/2015   5.00   9/18/2015 12:00   \n",
       "\n",
       "   pledged       state  backers country  usd pledged  usd_pledged_real  \\\n",
       "0    100.0  successful        6      US       100.00            100.00   \n",
       "1      0.0    canceled        0      US         0.00              0.00   \n",
       "2      0.0      failed        0      US         0.00              0.00   \n",
       "3    335.0  successful        7      MX        18.05             16.41   \n",
       "4      0.0      failed        0      US         0.00              0.00   \n",
       "5   9430.0  successful        2      MX       506.87            522.81   \n",
       "6      0.0   suspended        0      NO         0.00              0.00   \n",
       "7   1297.0  successful       59      AU       923.80            934.17   \n",
       "8      0.0   suspended        0      CA         0.00              0.00   \n",
       "9    145.0  successful        3      DK        21.96             21.54   \n",
       "\n",
       "   usd_goal_real  \n",
       "0           0.01  \n",
       "1           0.01  \n",
       "2           0.15  \n",
       "3           0.49  \n",
       "4           0.50  \n",
       "5           0.55  \n",
       "6           0.58  \n",
       "7           0.72  \n",
       "8           0.73  \n",
       "9           0.74  "
      ]
     },
     "execution_count": 7,
     "metadata": {},
     "output_type": "execute_result"
    }
   ],
   "source": [
    "df.head(10)"
   ]
  },
  {
   "cell_type": "code",
   "execution_count": 8,
   "metadata": {},
   "outputs": [
    {
     "name": "stdout",
     "output_type": "stream",
     "text": [
      "<class 'pandas.core.frame.DataFrame'>\n",
      "RangeIndex: 378302 entries, 0 to 378301\n",
      "Data columns (total 15 columns):\n",
      "ID                  378302 non-null int64\n",
      "name                378298 non-null object\n",
      "category            378302 non-null object\n",
      "main_category       378302 non-null object\n",
      "currency            378302 non-null object\n",
      "deadline            378302 non-null object\n",
      "goal                378302 non-null float64\n",
      "launched            378302 non-null object\n",
      "pledged             378302 non-null float64\n",
      "state               378302 non-null object\n",
      "backers             378302 non-null int64\n",
      "country             378302 non-null object\n",
      "usd pledged         374509 non-null float64\n",
      "usd_pledged_real    378302 non-null float64\n",
      "usd_goal_real       378302 non-null float64\n",
      "dtypes: float64(5), int64(2), object(8)\n",
      "memory usage: 43.3+ MB\n"
     ]
    }
   ],
   "source": [
    "df.info()"
   ]
  },
  {
   "cell_type": "code",
   "execution_count": 9,
   "metadata": {
    "scrolled": true
   },
   "outputs": [
    {
     "data": {
      "text/plain": [
       "ID                     0\n",
       "name                   4\n",
       "category               0\n",
       "main_category          0\n",
       "currency               0\n",
       "deadline               0\n",
       "goal                   0\n",
       "launched               0\n",
       "pledged                0\n",
       "state                  0\n",
       "backers                0\n",
       "country                0\n",
       "usd pledged         3793\n",
       "usd_pledged_real       0\n",
       "usd_goal_real          0\n",
       "dtype: int64"
      ]
     },
     "execution_count": 9,
     "metadata": {},
     "output_type": "execute_result"
    }
   ],
   "source": [
    "df.isna().sum()"
   ]
  },
  {
   "cell_type": "code",
   "execution_count": 10,
   "metadata": {},
   "outputs": [],
   "source": [
    "### exclude NA columns\n",
    "df = df.iloc[:,0:15]"
   ]
  },
  {
   "cell_type": "code",
   "execution_count": 11,
   "metadata": {},
   "outputs": [],
   "source": [
    "df['project_length'] = (pd.to_datetime(df['deadline']) - pd.to_datetime(df['launched'])).dt.days + 1"
   ]
  },
  {
   "cell_type": "code",
   "execution_count": 12,
   "metadata": {},
   "outputs": [
    {
     "data": {
      "text/html": [
       "<div>\n",
       "<style scoped>\n",
       "    .dataframe tbody tr th:only-of-type {\n",
       "        vertical-align: middle;\n",
       "    }\n",
       "\n",
       "    .dataframe tbody tr th {\n",
       "        vertical-align: top;\n",
       "    }\n",
       "\n",
       "    .dataframe thead th {\n",
       "        text-align: right;\n",
       "    }\n",
       "</style>\n",
       "<table border=\"1\" class=\"dataframe\">\n",
       "  <thead>\n",
       "    <tr style=\"text-align: right;\">\n",
       "      <th></th>\n",
       "      <th>ID</th>\n",
       "      <th>name</th>\n",
       "      <th>category</th>\n",
       "      <th>main_category</th>\n",
       "      <th>currency</th>\n",
       "      <th>deadline</th>\n",
       "      <th>goal</th>\n",
       "      <th>launched</th>\n",
       "      <th>pledged</th>\n",
       "      <th>state</th>\n",
       "      <th>backers</th>\n",
       "      <th>country</th>\n",
       "      <th>usd pledged</th>\n",
       "      <th>usd_pledged_real</th>\n",
       "      <th>usd_goal_real</th>\n",
       "      <th>project_length</th>\n",
       "    </tr>\n",
       "  </thead>\n",
       "  <tbody>\n",
       "    <tr>\n",
       "      <th>0</th>\n",
       "      <td>620302213</td>\n",
       "      <td>LOVELAND Round 6: A Force More Powerful</td>\n",
       "      <td>Conceptual Art</td>\n",
       "      <td>Art</td>\n",
       "      <td>USD</td>\n",
       "      <td>12/4/2009</td>\n",
       "      <td>0.01</td>\n",
       "      <td>11/25/2009 7:54</td>\n",
       "      <td>100.0</td>\n",
       "      <td>successful</td>\n",
       "      <td>6</td>\n",
       "      <td>US</td>\n",
       "      <td>100.00</td>\n",
       "      <td>100.00</td>\n",
       "      <td>0.01</td>\n",
       "      <td>9</td>\n",
       "    </tr>\n",
       "    <tr>\n",
       "      <th>1</th>\n",
       "      <td>688564643</td>\n",
       "      <td>Word-of-mouth publishing: get \"Corruptions\" ou...</td>\n",
       "      <td>Fiction</td>\n",
       "      <td>Publishing</td>\n",
       "      <td>USD</td>\n",
       "      <td>12/13/2011</td>\n",
       "      <td>0.01</td>\n",
       "      <td>11/7/2011 16:46</td>\n",
       "      <td>0.0</td>\n",
       "      <td>canceled</td>\n",
       "      <td>0</td>\n",
       "      <td>US</td>\n",
       "      <td>0.00</td>\n",
       "      <td>0.00</td>\n",
       "      <td>0.01</td>\n",
       "      <td>36</td>\n",
       "    </tr>\n",
       "    <tr>\n",
       "      <th>2</th>\n",
       "      <td>9572984</td>\n",
       "      <td>Nana</td>\n",
       "      <td>Shorts</td>\n",
       "      <td>Film &amp; Video</td>\n",
       "      <td>USD</td>\n",
       "      <td>3/16/2012</td>\n",
       "      <td>0.15</td>\n",
       "      <td>1/25/2012 7:23</td>\n",
       "      <td>0.0</td>\n",
       "      <td>failed</td>\n",
       "      <td>0</td>\n",
       "      <td>US</td>\n",
       "      <td>0.00</td>\n",
       "      <td>0.00</td>\n",
       "      <td>0.15</td>\n",
       "      <td>51</td>\n",
       "    </tr>\n",
       "    <tr>\n",
       "      <th>3</th>\n",
       "      <td>1379346088</td>\n",
       "      <td>Bug's Big Adventure: Mexico Edition</td>\n",
       "      <td>Art</td>\n",
       "      <td>Art</td>\n",
       "      <td>MXN</td>\n",
       "      <td>11/12/2016</td>\n",
       "      <td>10.00</td>\n",
       "      <td>11/11/2016 16:30</td>\n",
       "      <td>335.0</td>\n",
       "      <td>successful</td>\n",
       "      <td>7</td>\n",
       "      <td>MX</td>\n",
       "      <td>18.05</td>\n",
       "      <td>16.41</td>\n",
       "      <td>0.49</td>\n",
       "      <td>1</td>\n",
       "    </tr>\n",
       "    <tr>\n",
       "      <th>4</th>\n",
       "      <td>219760504</td>\n",
       "      <td>RocknRoll NoisePollution</td>\n",
       "      <td>Documentary</td>\n",
       "      <td>Film &amp; Video</td>\n",
       "      <td>USD</td>\n",
       "      <td>7/19/2011</td>\n",
       "      <td>0.50</td>\n",
       "      <td>7/12/2011 15:59</td>\n",
       "      <td>0.0</td>\n",
       "      <td>failed</td>\n",
       "      <td>0</td>\n",
       "      <td>US</td>\n",
       "      <td>0.00</td>\n",
       "      <td>0.00</td>\n",
       "      <td>0.50</td>\n",
       "      <td>7</td>\n",
       "    </tr>\n",
       "  </tbody>\n",
       "</table>\n",
       "</div>"
      ],
      "text/plain": [
       "           ID                                               name  \\\n",
       "0   620302213            LOVELAND Round 6: A Force More Powerful   \n",
       "1   688564643  Word-of-mouth publishing: get \"Corruptions\" ou...   \n",
       "2     9572984                                               Nana   \n",
       "3  1379346088                Bug's Big Adventure: Mexico Edition   \n",
       "4   219760504                           RocknRoll NoisePollution   \n",
       "\n",
       "         category main_category currency    deadline   goal          launched  \\\n",
       "0  Conceptual Art           Art      USD   12/4/2009   0.01   11/25/2009 7:54   \n",
       "1         Fiction    Publishing      USD  12/13/2011   0.01   11/7/2011 16:46   \n",
       "2          Shorts  Film & Video      USD   3/16/2012   0.15    1/25/2012 7:23   \n",
       "3             Art           Art      MXN  11/12/2016  10.00  11/11/2016 16:30   \n",
       "4     Documentary  Film & Video      USD   7/19/2011   0.50   7/12/2011 15:59   \n",
       "\n",
       "   pledged       state  backers country  usd pledged  usd_pledged_real  \\\n",
       "0    100.0  successful        6      US       100.00            100.00   \n",
       "1      0.0    canceled        0      US         0.00              0.00   \n",
       "2      0.0      failed        0      US         0.00              0.00   \n",
       "3    335.0  successful        7      MX        18.05             16.41   \n",
       "4      0.0      failed        0      US         0.00              0.00   \n",
       "\n",
       "   usd_goal_real  project_length  \n",
       "0           0.01               9  \n",
       "1           0.01              36  \n",
       "2           0.15              51  \n",
       "3           0.49               1  \n",
       "4           0.50               7  "
      ]
     },
     "execution_count": 12,
     "metadata": {},
     "output_type": "execute_result"
    }
   ],
   "source": [
    "df.head(5)\n"
   ]
  },
  {
   "cell_type": "code",
   "execution_count": 16,
   "metadata": {},
   "outputs": [
    {
     "data": {
      "text/plain": [
       "(378302, 16)"
      ]
     },
     "execution_count": 16,
     "metadata": {},
     "output_type": "execute_result"
    }
   ],
   "source": [
    "df.shape"
   ]
  },
  {
   "cell_type": "code",
   "execution_count": 17,
   "metadata": {},
   "outputs": [
    {
     "data": {
      "text/plain": [
       "failed        197522\n",
       "successful    133833\n",
       "canceled       38747\n",
       "undefined       3558\n",
       "live            2797\n",
       "suspended       1845\n",
       "Name: state, dtype: int64"
      ]
     },
     "execution_count": 17,
     "metadata": {},
     "output_type": "execute_result"
    }
   ],
   "source": [
    "df['state'].value_counts()"
   ]
  },
  {
   "cell_type": "code",
   "execution_count": 18,
   "metadata": {},
   "outputs": [
    {
     "data": {
      "text/plain": [
       "Film & Video    63533\n",
       "Music           51864\n",
       "Publishing      39837\n",
       "Games           35203\n",
       "Technology      32542\n",
       "Design          30038\n",
       "Art             28124\n",
       "Food            24577\n",
       "Fashion         22791\n",
       "Theater         10898\n",
       "Comics          10811\n",
       "Photography     10772\n",
       "Crafts           8796\n",
       "Journalism       4748\n",
       "Dance            3768\n",
       "Name: main_category, dtype: int64"
      ]
     },
     "execution_count": 18,
     "metadata": {},
     "output_type": "execute_result"
    }
   ],
   "source": [
    "df['main_category'].value_counts()"
   ]
  },
  {
   "cell_type": "code",
   "execution_count": 19,
   "metadata": {},
   "outputs": [],
   "source": [
    "# Only consider failed or successful projects\n",
    "# Exclude suspended, cancelled, and other misc states\n",
    "df = df[(df['state'] == \"failed\") | (df['state'] == \"successful\")]\n"
   ]
  },
  {
   "cell_type": "code",
   "execution_count": 20,
   "metadata": {},
   "outputs": [],
   "source": [
    "# Select proper features for modeling\n",
    "# Exclude id, name, dates, other features that are not needed in modeling\n",
    "df_features = df[['main_category', 'currency', 'state', 'backers', 'country', 'usd_pledged_real', 'usd_goal_real', 'project_length']]"
   ]
  },
  {
   "cell_type": "code",
   "execution_count": 22,
   "metadata": {},
   "outputs": [
    {
     "data": {
      "text/plain": [
       "failed        197522\n",
       "successful    133833\n",
       "Name: state, dtype: int64"
      ]
     },
     "execution_count": 22,
     "metadata": {},
     "output_type": "execute_result"
    }
   ],
   "source": [
    "df_features['state'].value_counts()"
   ]
  },
  {
   "cell_type": "code",
   "execution_count": 23,
   "metadata": {
    "scrolled": true
   },
   "outputs": [
    {
     "name": "stdout",
     "output_type": "stream",
     "text": [
      "<class 'pandas.core.frame.DataFrame'>\n",
      "Int64Index: 331355 entries, 0 to 378301\n",
      "Data columns (total 8 columns):\n",
      "main_category       331355 non-null object\n",
      "currency            331355 non-null object\n",
      "state               331355 non-null object\n",
      "backers             331355 non-null int64\n",
      "country             331355 non-null object\n",
      "usd_pledged_real    331355 non-null float64\n",
      "usd_goal_real       331355 non-null float64\n",
      "project_length      331355 non-null int64\n",
      "dtypes: float64(2), int64(2), object(4)\n",
      "memory usage: 22.8+ MB\n"
     ]
    }
   ],
   "source": [
    "df_features.info()"
   ]
  },
  {
   "cell_type": "code",
   "execution_count": 24,
   "metadata": {},
   "outputs": [],
   "source": [
    "# Modify our dependent variable to 0 or 1\n",
    "mapping = {'failed': 0, 'successful': 1}\n",
    "df_features = df_features.replace({'state': mapping})\n"
   ]
  },
  {
   "cell_type": "code",
   "execution_count": 25,
   "metadata": {},
   "outputs": [],
   "source": [
    "df_features['state'] = pd.to_numeric(df_features['state'], errors='coerce')"
   ]
  },
  {
   "cell_type": "code",
   "execution_count": 26,
   "metadata": {},
   "outputs": [],
   "source": [
    "# Categorial columns to numerical using dummy variables\n",
    "df_features = pd.get_dummies(df_features)"
   ]
  },
  {
   "cell_type": "code",
   "execution_count": 28,
   "metadata": {},
   "outputs": [
    {
     "data": {
      "text/html": [
       "<div>\n",
       "<style scoped>\n",
       "    .dataframe tbody tr th:only-of-type {\n",
       "        vertical-align: middle;\n",
       "    }\n",
       "\n",
       "    .dataframe tbody tr th {\n",
       "        vertical-align: top;\n",
       "    }\n",
       "\n",
       "    .dataframe thead th {\n",
       "        text-align: right;\n",
       "    }\n",
       "</style>\n",
       "<table border=\"1\" class=\"dataframe\">\n",
       "  <thead>\n",
       "    <tr style=\"text-align: right;\">\n",
       "      <th></th>\n",
       "      <th>state</th>\n",
       "      <th>backers</th>\n",
       "      <th>usd_pledged_real</th>\n",
       "      <th>usd_goal_real</th>\n",
       "      <th>project_length</th>\n",
       "      <th>main_category_Art</th>\n",
       "      <th>main_category_Comics</th>\n",
       "      <th>main_category_Crafts</th>\n",
       "      <th>main_category_Dance</th>\n",
       "      <th>main_category_Design</th>\n",
       "      <th>...</th>\n",
       "      <th>country_JP</th>\n",
       "      <th>country_LU</th>\n",
       "      <th>country_MX</th>\n",
       "      <th>country_N,0\"</th>\n",
       "      <th>country_NL</th>\n",
       "      <th>country_NO</th>\n",
       "      <th>country_NZ</th>\n",
       "      <th>country_SE</th>\n",
       "      <th>country_SG</th>\n",
       "      <th>country_US</th>\n",
       "    </tr>\n",
       "  </thead>\n",
       "  <tbody>\n",
       "    <tr>\n",
       "      <th>0</th>\n",
       "      <td>1</td>\n",
       "      <td>6</td>\n",
       "      <td>100.00</td>\n",
       "      <td>0.01</td>\n",
       "      <td>9</td>\n",
       "      <td>1</td>\n",
       "      <td>0</td>\n",
       "      <td>0</td>\n",
       "      <td>0</td>\n",
       "      <td>0</td>\n",
       "      <td>...</td>\n",
       "      <td>0</td>\n",
       "      <td>0</td>\n",
       "      <td>0</td>\n",
       "      <td>0</td>\n",
       "      <td>0</td>\n",
       "      <td>0</td>\n",
       "      <td>0</td>\n",
       "      <td>0</td>\n",
       "      <td>0</td>\n",
       "      <td>1</td>\n",
       "    </tr>\n",
       "    <tr>\n",
       "      <th>2</th>\n",
       "      <td>0</td>\n",
       "      <td>0</td>\n",
       "      <td>0.00</td>\n",
       "      <td>0.15</td>\n",
       "      <td>51</td>\n",
       "      <td>0</td>\n",
       "      <td>0</td>\n",
       "      <td>0</td>\n",
       "      <td>0</td>\n",
       "      <td>0</td>\n",
       "      <td>...</td>\n",
       "      <td>0</td>\n",
       "      <td>0</td>\n",
       "      <td>0</td>\n",
       "      <td>0</td>\n",
       "      <td>0</td>\n",
       "      <td>0</td>\n",
       "      <td>0</td>\n",
       "      <td>0</td>\n",
       "      <td>0</td>\n",
       "      <td>1</td>\n",
       "    </tr>\n",
       "    <tr>\n",
       "      <th>3</th>\n",
       "      <td>1</td>\n",
       "      <td>7</td>\n",
       "      <td>16.41</td>\n",
       "      <td>0.49</td>\n",
       "      <td>1</td>\n",
       "      <td>1</td>\n",
       "      <td>0</td>\n",
       "      <td>0</td>\n",
       "      <td>0</td>\n",
       "      <td>0</td>\n",
       "      <td>...</td>\n",
       "      <td>0</td>\n",
       "      <td>0</td>\n",
       "      <td>1</td>\n",
       "      <td>0</td>\n",
       "      <td>0</td>\n",
       "      <td>0</td>\n",
       "      <td>0</td>\n",
       "      <td>0</td>\n",
       "      <td>0</td>\n",
       "      <td>0</td>\n",
       "    </tr>\n",
       "    <tr>\n",
       "      <th>4</th>\n",
       "      <td>0</td>\n",
       "      <td>0</td>\n",
       "      <td>0.00</td>\n",
       "      <td>0.50</td>\n",
       "      <td>7</td>\n",
       "      <td>0</td>\n",
       "      <td>0</td>\n",
       "      <td>0</td>\n",
       "      <td>0</td>\n",
       "      <td>0</td>\n",
       "      <td>...</td>\n",
       "      <td>0</td>\n",
       "      <td>0</td>\n",
       "      <td>0</td>\n",
       "      <td>0</td>\n",
       "      <td>0</td>\n",
       "      <td>0</td>\n",
       "      <td>0</td>\n",
       "      <td>0</td>\n",
       "      <td>0</td>\n",
       "      <td>1</td>\n",
       "    </tr>\n",
       "    <tr>\n",
       "      <th>5</th>\n",
       "      <td>1</td>\n",
       "      <td>2</td>\n",
       "      <td>522.81</td>\n",
       "      <td>0.55</td>\n",
       "      <td>32</td>\n",
       "      <td>0</td>\n",
       "      <td>0</td>\n",
       "      <td>0</td>\n",
       "      <td>0</td>\n",
       "      <td>0</td>\n",
       "      <td>...</td>\n",
       "      <td>0</td>\n",
       "      <td>0</td>\n",
       "      <td>1</td>\n",
       "      <td>0</td>\n",
       "      <td>0</td>\n",
       "      <td>0</td>\n",
       "      <td>0</td>\n",
       "      <td>0</td>\n",
       "      <td>0</td>\n",
       "      <td>0</td>\n",
       "    </tr>\n",
       "  </tbody>\n",
       "</table>\n",
       "<p>5 rows × 57 columns</p>\n",
       "</div>"
      ],
      "text/plain": [
       "   state  backers  usd_pledged_real  usd_goal_real  project_length  \\\n",
       "0      1        6            100.00           0.01               9   \n",
       "2      0        0              0.00           0.15              51   \n",
       "3      1        7             16.41           0.49               1   \n",
       "4      0        0              0.00           0.50               7   \n",
       "5      1        2            522.81           0.55              32   \n",
       "\n",
       "   main_category_Art  main_category_Comics  main_category_Crafts  \\\n",
       "0                  1                     0                     0   \n",
       "2                  0                     0                     0   \n",
       "3                  1                     0                     0   \n",
       "4                  0                     0                     0   \n",
       "5                  0                     0                     0   \n",
       "\n",
       "   main_category_Dance  main_category_Design  ...  country_JP  country_LU  \\\n",
       "0                    0                     0  ...           0           0   \n",
       "2                    0                     0  ...           0           0   \n",
       "3                    0                     0  ...           0           0   \n",
       "4                    0                     0  ...           0           0   \n",
       "5                    0                     0  ...           0           0   \n",
       "\n",
       "   country_MX  country_N,0\"  country_NL  country_NO  country_NZ  country_SE  \\\n",
       "0           0             0           0           0           0           0   \n",
       "2           0             0           0           0           0           0   \n",
       "3           1             0           0           0           0           0   \n",
       "4           0             0           0           0           0           0   \n",
       "5           1             0           0           0           0           0   \n",
       "\n",
       "   country_SG  country_US  \n",
       "0           0           1  \n",
       "2           0           1  \n",
       "3           0           0  \n",
       "4           0           1  \n",
       "5           0           0  \n",
       "\n",
       "[5 rows x 57 columns]"
      ]
     },
     "execution_count": 28,
     "metadata": {},
     "output_type": "execute_result"
    }
   ],
   "source": [
    "df_features.head(5)"
   ]
  },
  {
   "cell_type": "code",
   "execution_count": 32,
   "metadata": {},
   "outputs": [],
   "source": [
    "# Split the data to train and test\n",
    "df_train, df_valid = train_test_split(df_features,\n",
    "                                      test_size = 0.25,\n",
    "                                      random_state=2018)"
   ]
  },
  {
   "cell_type": "code",
   "execution_count": 33,
   "metadata": {},
   "outputs": [
    {
     "data": {
      "text/plain": [
       "0    148174\n",
       "1    100342\n",
       "Name: state, dtype: int64"
      ]
     },
     "execution_count": 33,
     "metadata": {},
     "output_type": "execute_result"
    }
   ],
   "source": [
    "df_train['state'].value_counts()"
   ]
  },
  {
   "cell_type": "code",
   "execution_count": 34,
   "metadata": {},
   "outputs": [
    {
     "data": {
      "text/plain": [
       "0    49348\n",
       "1    33491\n",
       "Name: state, dtype: int64"
      ]
     },
     "execution_count": 34,
     "metadata": {},
     "output_type": "execute_result"
    }
   ],
   "source": [
    "df_valid['state'].value_counts()"
   ]
  },
  {
   "cell_type": "code",
   "execution_count": 35,
   "metadata": {},
   "outputs": [],
   "source": [
    "y = df_train['state']\n",
    "X = df_train.drop(columns=['state'])"
   ]
  },
  {
   "cell_type": "code",
   "execution_count": 36,
   "metadata": {},
   "outputs": [
    {
     "data": {
      "text/plain": [
       "(248516, 56)"
      ]
     },
     "execution_count": 36,
     "metadata": {},
     "output_type": "execute_result"
    }
   ],
   "source": [
    "X.shape"
   ]
  },
  {
   "cell_type": "code",
   "execution_count": 37,
   "metadata": {},
   "outputs": [
    {
     "data": {
      "text/plain": [
       "(248516,)"
      ]
     },
     "execution_count": 37,
     "metadata": {},
     "output_type": "execute_result"
    }
   ],
   "source": [
    "y.shape"
   ]
  },
  {
   "cell_type": "code",
   "execution_count": 38,
   "metadata": {},
   "outputs": [
    {
     "data": {
      "text/plain": [
       "<Signature (n_estimators='warn', criterion='gini', max_depth=None, min_samples_split=2, min_samples_leaf=1, min_weight_fraction_leaf=0.0, max_features='auto', max_leaf_nodes=None, min_impurity_decrease=0.0, min_impurity_split=None, bootstrap=True, oob_score=False, n_jobs=None, random_state=None, verbose=0, warm_start=False, class_weight=None)>"
      ]
     },
     "execution_count": 38,
     "metadata": {},
     "output_type": "execute_result"
    }
   ],
   "source": [
    "inspect.signature(RandomForestClassifier)"
   ]
  },
  {
   "cell_type": "code",
   "execution_count": 288,
   "metadata": {},
   "outputs": [],
   "source": [
    "### --- Step 1: Specify different number of trees in forest, to determine\n",
    "###             how many to use based on leveling-off of OOB error:\n",
    "n_trees = [50, 100, 250, 500, 1000]"
   ]
  },
  {
   "cell_type": "code",
   "execution_count": 289,
   "metadata": {},
   "outputs": [],
   "source": [
    "### --- Step 2: Create dictionary to save-off each estimated RF model:\n",
    "rf_dict = dict.fromkeys(n_trees)"
   ]
  },
  {
   "cell_type": "code",
   "execution_count": 290,
   "metadata": {
    "scrolled": false
   },
   "outputs": [
    {
     "name": "stdout",
     "output_type": "stream",
     "text": [
      "50\n"
     ]
    },
    {
     "name": "stderr",
     "output_type": "stream",
     "text": [
      "[Parallel(n_jobs=1)]: Using backend SequentialBackend with 1 concurrent workers.\n",
      "[Parallel(n_jobs=1)]: Done  50 out of  50 | elapsed:   51.0s finished\n"
     ]
    },
    {
     "name": "stdout",
     "output_type": "stream",
     "text": [
      "100\n"
     ]
    },
    {
     "name": "stderr",
     "output_type": "stream",
     "text": [
      "[Parallel(n_jobs=1)]: Using backend SequentialBackend with 1 concurrent workers.\n",
      "[Parallel(n_jobs=1)]: Done 100 out of 100 | elapsed:  1.5min finished\n"
     ]
    },
    {
     "name": "stdout",
     "output_type": "stream",
     "text": [
      "250\n"
     ]
    },
    {
     "name": "stderr",
     "output_type": "stream",
     "text": [
      "[Parallel(n_jobs=1)]: Using backend SequentialBackend with 1 concurrent workers.\n",
      "[Parallel(n_jobs=1)]: Done 250 out of 250 | elapsed:  3.7min finished\n"
     ]
    },
    {
     "name": "stdout",
     "output_type": "stream",
     "text": [
      "500\n"
     ]
    },
    {
     "name": "stderr",
     "output_type": "stream",
     "text": [
      "[Parallel(n_jobs=1)]: Using backend SequentialBackend with 1 concurrent workers.\n",
      "[Parallel(n_jobs=1)]: Done 500 out of 500 | elapsed:  8.0min finished\n"
     ]
    },
    {
     "name": "stdout",
     "output_type": "stream",
     "text": [
      "1000\n"
     ]
    },
    {
     "name": "stderr",
     "output_type": "stream",
     "text": [
      "[Parallel(n_jobs=1)]: Using backend SequentialBackend with 1 concurrent workers.\n",
      "[Parallel(n_jobs=1)]: Done 1000 out of 1000 | elapsed: 15.4min finished\n"
     ]
    }
   ],
   "source": [
    "for num in n_trees:\n",
    "    print(num)\n",
    "    ### --- Step 3: Specify RF model to estimate:\n",
    "    rf = RandomForestClassifier(n_estimators=num,\n",
    "                                min_samples_leaf=30,\n",
    "                                oob_score=True,\n",
    "                                random_state=2018,\n",
    "                                class_weight='balanced',\n",
    "                                verbose=1)\n",
    "    ### --- Step 4: Estimate RF model and save estimated model:\n",
    "    rf.fit(X, y)\n",
    "    rf_dict[num] = rf"
   ]
  },
  {
   "cell_type": "code",
   "execution_count": 296,
   "metadata": {},
   "outputs": [
    {
     "data": {
      "text/plain": [
       "['C:\\\\Users\\\\luxur\\\\Documents\\\\Stats-404-W19-Statistical-Computing\\\\Kickstarter\\\\rf.joblib']"
      ]
     },
     "execution_count": 296,
     "metadata": {},
     "output_type": "execute_result"
    }
   ],
   "source": [
    "\n",
    "### --- Save-off model:\n",
    "# Specify location and name of object to contain estimated model:\n",
    "model_object_path = os.path.join(notebook_dir, 'rf.joblib')\n",
    "# Save estimated model to specified location:\n",
    "dump(rf_dict, model_object_path) \n"
   ]
  },
  {
   "cell_type": "code",
   "execution_count": 297,
   "metadata": {},
   "outputs": [
    {
     "data": {
      "image/png": "[encoded data removed]",
      "text/plain": [
       "<Figure size 432x288 with 1 Axes>"
      ]
     },
     "metadata": {
      "needs_background": "light"
     },
     "output_type": "display_data"
    }
   ],
   "source": [
    "# Compute OOB error per\n",
    "# https://scikit-learn.org/stable/auto_examples/ensemble/plot_ensemble_oob.html\n",
    "oob_error_list = [None] * len(n_trees)\n",
    "\n",
    "# Find OOB error for each forest size:\n",
    "for i in range(len(n_trees)):\n",
    "    oob_error_list[i] = 1 - rf_dict[n_trees[i]].oob_score_\n",
    "else:\n",
    "    # Visulaize result:\n",
    "    plt.plot(n_trees, oob_error_list, 'bo',\n",
    "             n_trees, oob_error_list, 'k')"
   ]
  },
  {
   "cell_type": "code",
   "execution_count": 317,
   "metadata": {},
   "outputs": [],
   "source": [
    "# Feature importance plot\n",
    "top_num = 20\n",
    "forest = rf_dict[1000]\n",
    "importances = forest.feature_importances_\n",
    "\n",
    "# Sort in decreasing order:\n",
    "indices = np.argsort(importances)[::-1]    \n"
   ]
  },
  {
   "cell_type": "code",
   "execution_count": 318,
   "metadata": {},
   "outputs": [
    {
     "data": {
      "text/plain": [
       "56"
      ]
     },
     "execution_count": 318,
     "metadata": {},
     "output_type": "execute_result"
    }
   ],
   "source": [
    "len(importances)"
   ]
  },
  {
   "cell_type": "code",
   "execution_count": 319,
   "metadata": {},
   "outputs": [
    {
     "data": {
      "text/plain": [
       "array(['backers', 'usd_pledged_real', 'usd_goal_real', 'project_length',\n",
       "       'main_category_Technology', 'main_category_Music',\n",
       "       'main_category_Theater', 'main_category_Design',\n",
       "       'main_category_Food', 'main_category_Games',\n",
       "       'main_category_Fashion', 'main_category_Comics',\n",
       "       'main_category_Art', 'main_category_Dance',\n",
       "       'main_category_Film & Video', 'currency_EUR', 'currency_USD',\n",
       "       'main_category_Publishing', 'country_US', 'main_category_Crafts'],\n",
       "      dtype='<U26')"
      ]
     },
     "execution_count": 319,
     "metadata": {},
     "output_type": "execute_result"
    }
   ],
   "source": [
    "np.array(list(X))[indices[0:top_num]]"
   ]
  },
  {
   "cell_type": "code",
   "execution_count": 320,
   "metadata": {},
   "outputs": [
    {
     "data": {
      "image/png": "[encoded data removed]",
      "text/plain": [
       "<Figure size 432x288 with 1 Axes>"
      ]
     },
     "metadata": {
      "needs_background": "light"
     },
     "output_type": "display_data"
    }
   ],
   "source": [
    "# Plot the feature importances of the forest\n",
    "ax = plt.gca()\n",
    "plt.title(f\"Top {top_num} feature importances\")\n",
    "plt.bar(range(top_num), importances[indices[0:top_num]])\n",
    "plt.xticks(range(top_num))\n",
    "ax.set_xticklabels(np.array(list(X))[indices[0:top_num]], rotation = 90)\n",
    "ax.set_xlabel(\"Features\")\n",
    "ax.set_ylabel(\"Feature Importance\")\n",
    "plt.show()"
   ]
  },
  {
   "cell_type": "code",
   "execution_count": 324,
   "metadata": {
    "scrolled": true
   },
   "outputs": [
    {
     "name": "stderr",
     "output_type": "stream",
     "text": [
      "[Parallel(n_jobs=1)]: Using backend SequentialBackend with 1 concurrent workers.\n",
      "[Parallel(n_jobs=1)]: Done 1000 out of 1000 | elapsed:  2.8min finished\n"
     ]
    },
    {
     "data": {
      "text/plain": [
       "array([0, 1, 0, 0, 1], dtype=int64)"
      ]
     },
     "execution_count": 324,
     "metadata": {},
     "output_type": "execute_result"
    }
   ],
   "source": [
    "y_pred_train = forest.predict(X)\n",
    "y_pred_train[0:5]"
   ]
  },
  {
   "cell_type": "code",
   "execution_count": 329,
   "metadata": {},
   "outputs": [
    {
     "data": {
      "text/plain": [
       "array([[144068,   4106],\n",
       "       [   635,  99707]], dtype=int64)"
      ]
     },
     "execution_count": 329,
     "metadata": {},
     "output_type": "execute_result"
    }
   ],
   "source": [
    "conf_mat = confusion_matrix(y_true=y,\n",
    "                            y_pred=y_pred_train)\n",
    "conf_mat"
   ]
  },
  {
   "cell_type": "code",
   "execution_count": 330,
   "metadata": {},
   "outputs": [],
   "source": [
    "class_names = ['failed','successful']"
   ]
  },
  {
   "cell_type": "code",
   "execution_count": 332,
   "metadata": {},
   "outputs": [
    {
     "data": {
      "text/html": [
       "<div>\n",
       "<style scoped>\n",
       "    .dataframe tbody tr th:only-of-type {\n",
       "        vertical-align: middle;\n",
       "    }\n",
       "\n",
       "    .dataframe tbody tr th {\n",
       "        vertical-align: top;\n",
       "    }\n",
       "\n",
       "    .dataframe thead th {\n",
       "        text-align: right;\n",
       "    }\n",
       "</style>\n",
       "<table border=\"1\" class=\"dataframe\">\n",
       "  <thead>\n",
       "    <tr style=\"text-align: right;\">\n",
       "      <th></th>\n",
       "      <th>failed</th>\n",
       "      <th>successful</th>\n",
       "    </tr>\n",
       "  </thead>\n",
       "  <tbody>\n",
       "    <tr>\n",
       "      <th>failed</th>\n",
       "      <td>144068</td>\n",
       "      <td>4106</td>\n",
       "    </tr>\n",
       "    <tr>\n",
       "      <th>successful</th>\n",
       "      <td>635</td>\n",
       "      <td>99707</td>\n",
       "    </tr>\n",
       "  </tbody>\n",
       "</table>\n",
       "</div>"
      ],
      "text/plain": [
       "            failed  successful\n",
       "failed      144068        4106\n",
       "successful     635       99707"
      ]
     },
     "execution_count": 332,
     "metadata": {},
     "output_type": "execute_result"
    }
   ],
   "source": [
    "conf_df = pd.DataFrame(conf_mat, class_names, class_names)\n",
    "conf_df"
   ]
  },
  {
   "cell_type": "code",
   "execution_count": 333,
   "metadata": {},
   "outputs": [
    {
     "data": {
      "text/html": [
       "<div>\n",
       "<style scoped>\n",
       "    .dataframe tbody tr th:only-of-type {\n",
       "        vertical-align: middle;\n",
       "    }\n",
       "\n",
       "    .dataframe tbody tr th {\n",
       "        vertical-align: top;\n",
       "    }\n",
       "\n",
       "    .dataframe thead th {\n",
       "        text-align: right;\n",
       "    }\n",
       "</style>\n",
       "<table border=\"1\" class=\"dataframe\">\n",
       "  <thead>\n",
       "    <tr style=\"text-align: right;\">\n",
       "      <th></th>\n",
       "      <th>failed</th>\n",
       "      <th>successful</th>\n",
       "    </tr>\n",
       "  </thead>\n",
       "  <tbody>\n",
       "    <tr>\n",
       "      <th>failed</th>\n",
       "      <td>0.97</td>\n",
       "      <td>0.04</td>\n",
       "    </tr>\n",
       "    <tr>\n",
       "      <th>successful</th>\n",
       "      <td>0.00</td>\n",
       "      <td>0.99</td>\n",
       "    </tr>\n",
       "  </tbody>\n",
       "</table>\n",
       "</div>"
      ],
      "text/plain": [
       "            failed  successful\n",
       "failed        0.97        0.04\n",
       "successful    0.00        0.99"
      ]
     },
     "execution_count": 333,
     "metadata": {},
     "output_type": "execute_result"
    }
   ],
   "source": [
    "conf_df_pct = conf_df/conf_df.sum(axis=1)\n",
    "round(conf_df_pct, 2)\n",
    "# Very Successful results"
   ]
  },
  {
   "cell_type": "code",
   "execution_count": 334,
   "metadata": {},
   "outputs": [
    {
     "data": {
      "text/plain": [
       "0.9802948828116604"
      ]
     },
     "execution_count": 334,
     "metadata": {},
     "output_type": "execute_result"
    }
   ],
   "source": [
    "# Class-level performance: 0.9803\n",
    "f1_score(y_true=y,\n",
    "         y_pred=y_pred_train,\n",
    "         average='macro')"
   ]
  },
  {
   "cell_type": "code",
   "execution_count": null,
   "metadata": {},
   "outputs": [],
   "source": [
    "# Overall performance across all classes: 0.9809\n",
    "f1_score(y_true=y,\n",
    "         y_pred=y_pred_train,\n",
    "         average='micro')"
   ]
  },
  {
   "cell_type": "markdown",
   "metadata": {},
   "source": [
    "# Alternate model: Support Vector Machine\n",
    "C = 1.0\n",
    "#svm_dict = dict.fromkeys(['linear', 'LinearSVC', 'rbf', 'poly'])\n",
    "svm_linear = svm.SVC(kernel='linear', C=C)\n",
    "svm_LinearSVC = svm.LinearSVC(C=C)\n",
    "svm_rbf = svm.SVC(kernel='rbf', gamma=0.7, C=C)\n",
    "svm_poly = svm.SVC(kernel='poly', degree=3, C=C)\n",
    "svm_linear.fit(X,y)\n",
    "svm_LinearSVC.fit(X,y)\n",
    "svm_rbf.fit(X,y)\n",
    "svm_poly.fit(X,y)\n",
    "\n",
    "svm = [svm_linear, svm_LinearSVC, svm_rbf, svm_poly]\n",
    "#svm_dict['linear'] = svm_linear\n",
    "#svm_dict['LinearSVC'] = svm_LinearSVC\n",
    "#svm_dict['rbf'] = svm_rbf\n",
    "#svm_dict['poly'] = svm_poly"
   ]
  },
  {
   "cell_type": "code",
   "execution_count": 327,
   "metadata": {},
   "outputs": [
    {
     "data": {
      "text/plain": [
       "<generator object <genexpr> at 0x000001B8DA7E4408>"
      ]
     },
     "execution_count": 327,
     "metadata": {},
     "output_type": "execute_result"
    }
   ],
   "source": [
    "# Compute OOB error per\n",
    "# https://scikit-learn.org/stable/auto_examples/ensemble/plot_ensemble_oob.html\n",
    "oob_error_list = [None] * 4\n",
    "\n",
    "# Find OOB error for each forest size:\n",
    "for i in range(4):\n",
    "    oob_error_list[i] = 1 - svm[i].oob_score_\n",
    "else:\n",
    "    # Visulaize result:\n",
    "    plt.plot(np.array(list(svm)), oob_error_list, 'bo',\n",
    "             np.array(list(svm)), oob_error_list, 'k')"
   ]
  },
  {
   "cell_type": "code",
   "execution_count": null,
   "metadata": {},
   "outputs": [],
   "source": [
    "y_pred_train_svm = svm_linear.predict(X)\n",
    "y_pred_train_svm[0:5]"
   ]
  },
  {
   "cell_type": "code",
   "execution_count": null,
   "metadata": {},
   "outputs": [],
   "source": [
    "conf_mat_svm = confusion_matrix(y_true=y,\n",
    "                            y_pred=y_pred_train_svm)\n",
    "conf_mat_svm"
   ]
  },
  {
   "cell_type": "code",
   "execution_count": null,
   "metadata": {},
   "outputs": [],
   "source": [
    "conf_df_svm = pd.DataFrame(conf_mat_svm, class_names, class_names)\n",
    "conf_df_svm"
   ]
  },
  {
   "cell_type": "code",
   "execution_count": null,
   "metadata": {},
   "outputs": [],
   "source": [
    "conf_df_pct_svm = conf_df_svm/conf_df_svm.sum(axis=1)\n",
    "round(conf_df_pct_svm, 2)\n",
    "# Very Successful results"
   ]
  },
  {
   "cell_type": "code",
   "execution_count": null,
   "metadata": {},
   "outputs": [],
   "source": [
    "# Class-level performance: 0.9803\n",
    "f1_score(y_true=y,\n",
    "         y_pred=y_pred_train_svm,\n",
    "         average='macro')"
   ]
  },
  {
   "cell_type": "code",
   "execution_count": null,
   "metadata": {},
   "outputs": [],
   "source": [
    "# Overall performance across all classes: 0.9809\n",
    "f1_score(y_true=y,\n",
    "         y_pred=y_pred_train_svm,\n",
    "         average='micro')"
   ]
  }
 ],
 "metadata": {
  "kernelspec": {
   "display_name": "Python 3",
   "language": "python",
   "name": "python3"
  },
  "language_info": {
   "codemirror_mode": {
    "name": "ipython",
    "version": 3
   },
   "file_extension": ".py",
   "mimetype": "text/x-python",
   "name": "python",
   "nbconvert_exporter": "python",
   "pygments_lexer": "ipython3",
   "version": "3.7.2"
  }
 },
 "nbformat": 4,
 "nbformat_minor": 2
}
